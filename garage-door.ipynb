{
 "cells": [
  {
   "cell_type": "code",
   "execution_count": 1,
   "id": "3ac387eb-025f-4529-8215-36c0c4f66fbe",
   "metadata": {},
   "outputs": [],
   "source": [
    "import pandas as pd\n",
    "import numpy as np\n",
    "import seaborn as sns\n",
    "import matplotlib.pyplot as plt\n",
    "%matplotlib inline"
   ]
  },
  {
   "cell_type": "code",
   "execution_count": 2,
   "id": "da9dc5f1-8aca-4db4-bb7e-5f4516115d98",
   "metadata": {},
   "outputs": [
    {
     "data": {
      "text/html": [
       "<div>\n",
       "<style scoped>\n",
       "    .dataframe tbody tr th:only-of-type {\n",
       "        vertical-align: middle;\n",
       "    }\n",
       "\n",
       "    .dataframe tbody tr th {\n",
       "        vertical-align: top;\n",
       "    }\n",
       "\n",
       "    .dataframe thead th {\n",
       "        text-align: right;\n",
       "    }\n",
       "</style>\n",
       "<table border=\"1\" class=\"dataframe\">\n",
       "  <thead>\n",
       "    <tr style=\"text-align: right;\">\n",
       "      <th></th>\n",
       "      <th>ts</th>\n",
       "      <th>date</th>\n",
       "      <th>time</th>\n",
       "      <th>door_state</th>\n",
       "      <th>sphone_signal</th>\n",
       "      <th>label</th>\n",
       "      <th>type</th>\n",
       "    </tr>\n",
       "  </thead>\n",
       "  <tbody>\n",
       "    <tr>\n",
       "      <th>0</th>\n",
       "      <td>1556228553</td>\n",
       "      <td>25-Apr-19</td>\n",
       "      <td>14:42:33</td>\n",
       "      <td>closed</td>\n",
       "      <td>0</td>\n",
       "      <td>1</td>\n",
       "      <td>ddos</td>\n",
       "    </tr>\n",
       "    <tr>\n",
       "      <th>1</th>\n",
       "      <td>1556228558</td>\n",
       "      <td>25-Apr-19</td>\n",
       "      <td>14:42:38</td>\n",
       "      <td>closed</td>\n",
       "      <td>0</td>\n",
       "      <td>1</td>\n",
       "      <td>ddos</td>\n",
       "    </tr>\n",
       "    <tr>\n",
       "      <th>2</th>\n",
       "      <td>1556228563</td>\n",
       "      <td>25-Apr-19</td>\n",
       "      <td>14:42:43</td>\n",
       "      <td>closed</td>\n",
       "      <td>0</td>\n",
       "      <td>1</td>\n",
       "      <td>ddos</td>\n",
       "    </tr>\n",
       "    <tr>\n",
       "      <th>3</th>\n",
       "      <td>1556228568</td>\n",
       "      <td>25-Apr-19</td>\n",
       "      <td>14:42:48</td>\n",
       "      <td>closed</td>\n",
       "      <td>0</td>\n",
       "      <td>1</td>\n",
       "      <td>ddos</td>\n",
       "    </tr>\n",
       "    <tr>\n",
       "      <th>4</th>\n",
       "      <td>1556228578</td>\n",
       "      <td>25-Apr-19</td>\n",
       "      <td>14:42:58</td>\n",
       "      <td>closed</td>\n",
       "      <td>0</td>\n",
       "      <td>1</td>\n",
       "      <td>ddos</td>\n",
       "    </tr>\n",
       "  </tbody>\n",
       "</table>\n",
       "</div>"
      ],
      "text/plain": [
       "           ts       date       time door_state sphone_signal  label  type\n",
       "0  1556228553  25-Apr-19  14:42:33      closed             0      1  ddos\n",
       "1  1556228558  25-Apr-19  14:42:38      closed             0      1  ddos\n",
       "2  1556228563  25-Apr-19  14:42:43      closed             0      1  ddos\n",
       "3  1556228568  25-Apr-19  14:42:48      closed             0      1  ddos\n",
       "4  1556228578  25-Apr-19  14:42:58      closed             0      1  ddos"
      ]
     },
     "execution_count": 2,
     "metadata": {},
     "output_type": "execute_result"
    }
   ],
   "source": [
    "df = pd.read_csv('data/Train_Test_datasets/Train_Test_IoT_dataset/Train_Test_IoT_Garage_Door.csv', skipinitialspace=True)\n",
    "\n",
    "df.head()"
   ]
  },
  {
   "cell_type": "code",
   "execution_count": 3,
   "id": "c5671330-90e5-44fd-ba85-9d48ac139d74",
   "metadata": {},
   "outputs": [
    {
     "data": {
      "text/plain": [
       "closed    53588\n",
       "open       5999\n",
       "Name: door_state, dtype: int64"
      ]
     },
     "execution_count": 3,
     "metadata": {},
     "output_type": "execute_result"
    }
   ],
   "source": [
    "df.door_state.value_counts()"
   ]
  },
  {
   "cell_type": "code",
   "execution_count": 4,
   "id": "8e8987ba-f7ce-4e1e-9111-81999cdc744b",
   "metadata": {},
   "outputs": [
    {
     "data": {
      "text/plain": [
       "ts                int64\n",
       "date             object\n",
       "time             object\n",
       "door_state       object\n",
       "sphone_signal    object\n",
       "label             int64\n",
       "type             object\n",
       "dtype: object"
      ]
     },
     "execution_count": 4,
     "metadata": {},
     "output_type": "execute_result"
    }
   ],
   "source": [
    "df.dtypes"
   ]
  },
  {
   "cell_type": "code",
   "execution_count": 5,
   "id": "161391c4-1655-4b9c-99af-6026cb2d21bf",
   "metadata": {},
   "outputs": [
    {
     "data": {
      "text/plain": [
       "0    53588\n",
       "1     5999\n",
       "Name: door_state, dtype: int64"
      ]
     },
     "execution_count": 5,
     "metadata": {},
     "output_type": "execute_result"
    }
   ],
   "source": [
    "df.door_state = df.door_state.apply(lambda x: 0 if x == 'closed' else 1)\n",
    "df.door_state.value_counts()"
   ]
  },
  {
   "cell_type": "code",
   "execution_count": 6,
   "id": "31ae58b5-718f-4286-a653-41be645e3dda",
   "metadata": {},
   "outputs": [
    {
     "data": {
      "text/plain": [
       "false      31491\n",
       "0          22097\n",
       "true        3509\n",
       "1           2490\n",
       "Name: sphone_signal, dtype: int64"
      ]
     },
     "execution_count": 6,
     "metadata": {},
     "output_type": "execute_result"
    }
   ],
   "source": [
    "df.sphone_signal.value_counts()"
   ]
  },
  {
   "cell_type": "code",
   "execution_count": 7,
   "id": "b5f4858d-c13e-43b3-bfa1-fd4771e41f6c",
   "metadata": {},
   "outputs": [],
   "source": [
    "tmp = df.sphone_signal.map(str.strip)\n",
    "tmp = tmp.map(lambda x: 0 if x == 'false' else 1 if x == 'true' else int(x))"
   ]
  },
  {
   "cell_type": "code",
   "execution_count": 8,
   "id": "8282efa2-7d7b-4ec9-bebb-32911866f640",
   "metadata": {},
   "outputs": [
    {
     "data": {
      "text/plain": [
       "0    53588\n",
       "1     5999\n",
       "Name: sphone_signal, dtype: int64"
      ]
     },
     "execution_count": 8,
     "metadata": {},
     "output_type": "execute_result"
    }
   ],
   "source": [
    "tmp.value_counts()"
   ]
  },
  {
   "cell_type": "code",
   "execution_count": 9,
   "id": "52235ae8-5a1c-4266-b511-38911392c790",
   "metadata": {},
   "outputs": [
    {
     "data": {
      "text/plain": [
       "ts                int64\n",
       "date             object\n",
       "time             object\n",
       "door_state        int64\n",
       "sphone_signal     int64\n",
       "label             int64\n",
       "type             object\n",
       "dtype: object"
      ]
     },
     "execution_count": 9,
     "metadata": {},
     "output_type": "execute_result"
    }
   ],
   "source": [
    "df.sphone_signal = tmp\n",
    "df.dtypes"
   ]
  },
  {
   "cell_type": "code",
   "execution_count": 10,
   "id": "3019927a-5574-4678-90ec-228db2812fb8",
   "metadata": {},
   "outputs": [
    {
     "data": {
      "text/html": [
       "<div>\n",
       "<style scoped>\n",
       "    .dataframe tbody tr th:only-of-type {\n",
       "        vertical-align: middle;\n",
       "    }\n",
       "\n",
       "    .dataframe tbody tr th {\n",
       "        vertical-align: top;\n",
       "    }\n",
       "\n",
       "    .dataframe thead th {\n",
       "        text-align: right;\n",
       "    }\n",
       "</style>\n",
       "<table border=\"1\" class=\"dataframe\">\n",
       "  <thead>\n",
       "    <tr style=\"text-align: right;\">\n",
       "      <th></th>\n",
       "      <th>ts</th>\n",
       "      <th>door_state</th>\n",
       "      <th>sphone_signal</th>\n",
       "      <th>label</th>\n",
       "    </tr>\n",
       "  </thead>\n",
       "  <tbody>\n",
       "    <tr>\n",
       "      <th>ts</th>\n",
       "      <td>1.000000</td>\n",
       "      <td>0.001904</td>\n",
       "      <td>0.001904</td>\n",
       "      <td>0.996488</td>\n",
       "    </tr>\n",
       "    <tr>\n",
       "      <th>door_state</th>\n",
       "      <td>0.001904</td>\n",
       "      <td>1.000000</td>\n",
       "      <td>1.000000</td>\n",
       "      <td>0.001662</td>\n",
       "    </tr>\n",
       "    <tr>\n",
       "      <th>sphone_signal</th>\n",
       "      <td>0.001904</td>\n",
       "      <td>1.000000</td>\n",
       "      <td>1.000000</td>\n",
       "      <td>0.001662</td>\n",
       "    </tr>\n",
       "    <tr>\n",
       "      <th>label</th>\n",
       "      <td>0.996488</td>\n",
       "      <td>0.001662</td>\n",
       "      <td>0.001662</td>\n",
       "      <td>1.000000</td>\n",
       "    </tr>\n",
       "  </tbody>\n",
       "</table>\n",
       "</div>"
      ],
      "text/plain": [
       "                     ts  door_state  sphone_signal     label\n",
       "ts             1.000000    0.001904       0.001904  0.996488\n",
       "door_state     0.001904    1.000000       1.000000  0.001662\n",
       "sphone_signal  0.001904    1.000000       1.000000  0.001662\n",
       "label          0.996488    0.001662       0.001662  1.000000"
      ]
     },
     "execution_count": 10,
     "metadata": {},
     "output_type": "execute_result"
    }
   ],
   "source": [
    "df.corr(method='pearson')"
   ]
  },
  {
   "cell_type": "code",
   "execution_count": null,
   "id": "eb601319-a39f-4403-a819-b0d0239d22bd",
   "metadata": {},
   "outputs": [],
   "source": []
  }
 ],
 "metadata": {
  "kernelspec": {
   "display_name": "Python 3 (ipykernel)",
   "language": "python",
   "name": "python3"
  },
  "language_info": {
   "codemirror_mode": {
    "name": "ipython",
    "version": 3
   },
   "file_extension": ".py",
   "mimetype": "text/x-python",
   "name": "python",
   "nbconvert_exporter": "python",
   "pygments_lexer": "ipython3",
   "version": "3.8.10"
  }
 },
 "nbformat": 4,
 "nbformat_minor": 5
}

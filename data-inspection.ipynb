{
 "cells": [
  {
   "cell_type": "code",
   "execution_count": 12,
   "id": "3ac387eb-025f-4529-8215-36c0c4f66fbe",
   "metadata": {},
   "outputs": [],
   "source": [
    "import pandas as pd\n",
    "import numpy as np\n",
    "import seaborn as sns\n",
    "import matplotlib.pyplot as plt\n",
    "%matplotlib inline"
   ]
  },
  {
   "cell_type": "code",
   "execution_count": 2,
   "id": "da9dc5f1-8aca-4db4-bb7e-5f4516115d98",
   "metadata": {},
   "outputs": [
    {
     "data": {
      "text/html": [
       "<div>\n",
       "<style scoped>\n",
       "    .dataframe tbody tr th:only-of-type {\n",
       "        vertical-align: middle;\n",
       "    }\n",
       "\n",
       "    .dataframe tbody tr th {\n",
       "        vertical-align: top;\n",
       "    }\n",
       "\n",
       "    .dataframe thead th {\n",
       "        text-align: right;\n",
       "    }\n",
       "</style>\n",
       "<table border=\"1\" class=\"dataframe\">\n",
       "  <thead>\n",
       "    <tr style=\"text-align: right;\">\n",
       "      <th></th>\n",
       "      <th>ts</th>\n",
       "      <th>date</th>\n",
       "      <th>time</th>\n",
       "      <th>door_state</th>\n",
       "      <th>sphone_signal</th>\n",
       "      <th>label</th>\n",
       "      <th>type</th>\n",
       "    </tr>\n",
       "  </thead>\n",
       "  <tbody>\n",
       "    <tr>\n",
       "      <th>0</th>\n",
       "      <td>1556228553</td>\n",
       "      <td>25-Apr-19</td>\n",
       "      <td>14:42:33</td>\n",
       "      <td>closed</td>\n",
       "      <td>0</td>\n",
       "      <td>1</td>\n",
       "      <td>ddos</td>\n",
       "    </tr>\n",
       "    <tr>\n",
       "      <th>1</th>\n",
       "      <td>1556228558</td>\n",
       "      <td>25-Apr-19</td>\n",
       "      <td>14:42:38</td>\n",
       "      <td>closed</td>\n",
       "      <td>0</td>\n",
       "      <td>1</td>\n",
       "      <td>ddos</td>\n",
       "    </tr>\n",
       "    <tr>\n",
       "      <th>2</th>\n",
       "      <td>1556228563</td>\n",
       "      <td>25-Apr-19</td>\n",
       "      <td>14:42:43</td>\n",
       "      <td>closed</td>\n",
       "      <td>0</td>\n",
       "      <td>1</td>\n",
       "      <td>ddos</td>\n",
       "    </tr>\n",
       "    <tr>\n",
       "      <th>3</th>\n",
       "      <td>1556228568</td>\n",
       "      <td>25-Apr-19</td>\n",
       "      <td>14:42:48</td>\n",
       "      <td>closed</td>\n",
       "      <td>0</td>\n",
       "      <td>1</td>\n",
       "      <td>ddos</td>\n",
       "    </tr>\n",
       "    <tr>\n",
       "      <th>4</th>\n",
       "      <td>1556228578</td>\n",
       "      <td>25-Apr-19</td>\n",
       "      <td>14:42:58</td>\n",
       "      <td>closed</td>\n",
       "      <td>0</td>\n",
       "      <td>1</td>\n",
       "      <td>ddos</td>\n",
       "    </tr>\n",
       "  </tbody>\n",
       "</table>\n",
       "</div>"
      ],
      "text/plain": [
       "           ts       date        time door_state sphone_signal  label  type\n",
       "0  1556228553  25-Apr-19   14:42:33      closed             0      1  ddos\n",
       "1  1556228558  25-Apr-19   14:42:38      closed             0      1  ddos\n",
       "2  1556228563  25-Apr-19   14:42:43      closed             0      1  ddos\n",
       "3  1556228568  25-Apr-19   14:42:48      closed             0      1  ddos\n",
       "4  1556228578  25-Apr-19   14:42:58      closed             0      1  ddos"
      ]
     },
     "execution_count": 2,
     "metadata": {},
     "output_type": "execute_result"
    }
   ],
   "source": [
    "garage = pd.read_csv('data/Train_Test_datasets/Train_Test_IoT_dataset/Train_Test_IoT_Garage_Door.csv')\n",
    "\n",
    "garage.head()"
   ]
  },
  {
   "cell_type": "code",
   "execution_count": 6,
   "id": "8282efa2-7d7b-4ec9-bebb-32911866f640",
   "metadata": {},
   "outputs": [
    {
     "data": {
      "text/plain": [
       "(59587, 7)"
      ]
     },
     "execution_count": 6,
     "metadata": {},
     "output_type": "execute_result"
    }
   ],
   "source": [
    "garage.shape"
   ]
  },
  {
   "cell_type": "code",
   "execution_count": 8,
   "id": "5a079bae-8726-45f4-8bb6-4278bb8ca515",
   "metadata": {},
   "outputs": [
    {
     "data": {
      "text/html": [
       "<div>\n",
       "<style scoped>\n",
       "    .dataframe tbody tr th:only-of-type {\n",
       "        vertical-align: middle;\n",
       "    }\n",
       "\n",
       "    .dataframe tbody tr th {\n",
       "        vertical-align: top;\n",
       "    }\n",
       "\n",
       "    .dataframe thead th {\n",
       "        text-align: right;\n",
       "    }\n",
       "</style>\n",
       "<table border=\"1\" class=\"dataframe\">\n",
       "  <thead>\n",
       "    <tr style=\"text-align: right;\">\n",
       "      <th></th>\n",
       "      <th>ts</th>\n",
       "      <th>label</th>\n",
       "    </tr>\n",
       "  </thead>\n",
       "  <tbody>\n",
       "    <tr>\n",
       "      <th>count</th>\n",
       "      <td>5.958700e+04</td>\n",
       "      <td>59587.000000</td>\n",
       "    </tr>\n",
       "    <tr>\n",
       "      <th>mean</th>\n",
       "      <td>1.555025e+09</td>\n",
       "      <td>0.412624</td>\n",
       "    </tr>\n",
       "    <tr>\n",
       "      <th>std</th>\n",
       "      <td>1.098094e+06</td>\n",
       "      <td>0.492310</td>\n",
       "    </tr>\n",
       "    <tr>\n",
       "      <th>min</th>\n",
       "      <td>1.554061e+09</td>\n",
       "      <td>0.000000</td>\n",
       "    </tr>\n",
       "    <tr>\n",
       "      <th>25%</th>\n",
       "      <td>1.554061e+09</td>\n",
       "      <td>0.000000</td>\n",
       "    </tr>\n",
       "    <tr>\n",
       "      <th>50%</th>\n",
       "      <td>1.554203e+09</td>\n",
       "      <td>0.000000</td>\n",
       "    </tr>\n",
       "    <tr>\n",
       "      <th>75%</th>\n",
       "      <td>1.556241e+09</td>\n",
       "      <td>1.000000</td>\n",
       "    </tr>\n",
       "    <tr>\n",
       "      <th>max</th>\n",
       "      <td>1.556521e+09</td>\n",
       "      <td>1.000000</td>\n",
       "    </tr>\n",
       "  </tbody>\n",
       "</table>\n",
       "</div>"
      ],
      "text/plain": [
       "                 ts         label\n",
       "count  5.958700e+04  59587.000000\n",
       "mean   1.555025e+09      0.412624\n",
       "std    1.098094e+06      0.492310\n",
       "min    1.554061e+09      0.000000\n",
       "25%    1.554061e+09      0.000000\n",
       "50%    1.554203e+09      0.000000\n",
       "75%    1.556241e+09      1.000000\n",
       "max    1.556521e+09      1.000000"
      ]
     },
     "execution_count": 8,
     "metadata": {},
     "output_type": "execute_result"
    }
   ],
   "source": [
    "garage.describe()"
   ]
  },
  {
   "cell_type": "code",
   "execution_count": 27,
   "id": "4c7213fd-abf5-4fa5-ad57-5ebc6acbb3aa",
   "metadata": {},
   "outputs": [
    {
     "data": {
      "text/plain": [
       "0    35000\n",
       "1    24587\n",
       "Name: label, dtype: int64"
      ]
     },
     "execution_count": 27,
     "metadata": {},
     "output_type": "execute_result"
    }
   ],
   "source": [
    "garage['label'].value_counts()"
   ]
  },
  {
   "cell_type": "code",
   "execution_count": 21,
   "id": "1db27eed-4dff-4e9d-b3c3-de1942d15cf2",
   "metadata": {},
   "outputs": [
    {
     "data": {
      "text/plain": [
       "ts               0\n",
       "date             0\n",
       "time             0\n",
       "door_state       0\n",
       "sphone_signal    0\n",
       "label            0\n",
       "type             0\n",
       "dtype: int64"
      ]
     },
     "execution_count": 21,
     "metadata": {},
     "output_type": "execute_result"
    }
   ],
   "source": [
    "garage.isnull().sum()"
   ]
  },
  {
   "cell_type": "code",
   "execution_count": 28,
   "id": "3f2c2121-ec7a-40e6-9e8a-55093c0cfdd7",
   "metadata": {},
   "outputs": [
    {
     "data": {
      "text/plain": [
       "<AxesSubplot:>"
      ]
     },
     "execution_count": 28,
     "metadata": {},
     "output_type": "execute_result"
    },
    {
     "data": {
      "image/png": "[encoded data removed]",
      "text/plain": [
       "<Figure size 432x288 with 1 Axes>"
      ]
     },
     "metadata": {
      "needs_background": "light"
     },
     "output_type": "display_data"
    }
   ],
   "source": [
    "garage['label'].hist()"
   ]
  },
  {
   "cell_type": "code",
   "execution_count": 30,
   "id": "d7a94036-ebc4-48a1-89be-834bfbaf4280",
   "metadata": {},
   "outputs": [
    {
     "data": {
      "text/plain": [
       "<AxesSubplot:>"
      ]
     },
     "execution_count": 30,
     "metadata": {},
     "output_type": "execute_result"
    },
    {
     "data": {
      "image/png": "[encoded data removed]",
      "text/plain": [
       "<Figure size 432x288 with 1 Axes>"
      ]
     },
     "metadata": {
      "needs_background": "light"
     },
     "output_type": "display_data"
    }
   ],
   "source": [
    "garage['door_state'].hist()"
   ]
  },
  {
   "cell_type": "code",
   "execution_count": null,
   "id": "3019927a-5574-4678-90ec-228db2812fb8",
   "metadata": {},
   "outputs": [],
   "source": []
  }
 ],
 "metadata": {
  "kernelspec": {
   "display_name": "Python 3 (ipykernel)",
   "language": "python",
   "name": "python3"
  },
  "language_info": {
   "codemirror_mode": {
    "name": "ipython",
    "version": 3
   },
   "file_extension": ".py",
   "mimetype": "text/x-python",
   "name": "python",
   "nbconvert_exporter": "python",
   "pygments_lexer": "ipython3",
   "version": "3.8.10"
  }
 },
 "nbformat": 4,
 "nbformat_minor": 5
}
